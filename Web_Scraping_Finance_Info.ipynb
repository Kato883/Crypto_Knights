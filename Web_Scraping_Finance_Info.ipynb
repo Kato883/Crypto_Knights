{
 "cells": [
  {
   "cell_type": "code",
   "execution_count": 244,
   "metadata": {},
   "outputs": [],
   "source": [
    "#All the dependencies \n",
    "from bs4 import BeautifulSoup\n",
    "import requests\n",
    "from config import scrape_key\n",
    "import pandas as pd\n",
    "import datetime"
   ]
  },
  {
   "cell_type": "code",
   "execution_count": 252,
   "metadata": {},
   "outputs": [
    {
     "data": {
      "text/html": [
       "<div>\n",
       "<style scoped>\n",
       "    .dataframe tbody tr th:only-of-type {\n",
       "        vertical-align: middle;\n",
       "    }\n",
       "\n",
       "    .dataframe tbody tr th {\n",
       "        vertical-align: top;\n",
       "    }\n",
       "\n",
       "    .dataframe thead th {\n",
       "        text-align: right;\n",
       "    }\n",
       "</style>\n",
       "<table border=\"1\" class=\"dataframe\">\n",
       "  <thead>\n",
       "    <tr style=\"text-align: right;\">\n",
       "      <th></th>\n",
       "      <th>Date</th>\n",
       "      <th>Symbol</th>\n",
       "      <th>Closing_Price</th>\n",
       "    </tr>\n",
       "  </thead>\n",
       "  <tbody>\n",
       "    <tr>\n",
       "      <th>0</th>\n",
       "      <td>2020-12-02</td>\n",
       "      <td>AMZN</td>\n",
       "      <td>3203.53</td>\n",
       "    </tr>\n",
       "    <tr>\n",
       "      <th>1</th>\n",
       "      <td>2020-12-02</td>\n",
       "      <td>AAPL</td>\n",
       "      <td>123.08</td>\n",
       "    </tr>\n",
       "    <tr>\n",
       "      <th>2</th>\n",
       "      <td>2020-12-02</td>\n",
       "      <td>GOOGL</td>\n",
       "      <td>1824.97</td>\n",
       "    </tr>\n",
       "    <tr>\n",
       "      <th>3</th>\n",
       "      <td>2020-12-02</td>\n",
       "      <td>TSLA</td>\n",
       "      <td>568.82</td>\n",
       "    </tr>\n",
       "    <tr>\n",
       "      <th>4</th>\n",
       "      <td>2020-12-02</td>\n",
       "      <td>GME</td>\n",
       "      <td>16.58</td>\n",
       "    </tr>\n",
       "  </tbody>\n",
       "</table>\n",
       "</div>"
      ],
      "text/plain": [
       "        Date Symbol  Closing_Price\n",
       "0 2020-12-02   AMZN        3203.53\n",
       "1 2020-12-02   AAPL         123.08\n",
       "2 2020-12-02  GOOGL        1824.97\n",
       "3 2020-12-02   TSLA         568.82\n",
       "4 2020-12-02    GME          16.58"
      ]
     },
     "execution_count": 252,
     "metadata": {},
     "output_type": "execute_result"
    }
   ],
   "source": [
    "stonks = ['AMZN', 'AAPL', 'GOOGL', 'TSLA', 'GME']\n",
    "stock_perf = []\n",
    "\n",
    "#run through Scraping for each of the above symbols \n",
    "\n",
    "for stocks in stonks:\n",
    "    query_url = f\"https://api.scrapingdog.com/scrape?api_key={scrape_key}&url=https://finance.yahoo.com/quote/{stocks}?p={stocks}&.tsrc=fin-srch\"\n",
    "    r = requests.get(query_url).text\n",
    "    soup = BeautifulSoup(r,'html.parser')\n",
    "    alldata = soup.find_all(\"tbody\")\n",
    "\n",
    "#creating Tables to hold all the HTML values\n",
    "    \n",
    "    try:\n",
    "     table1 = alldata[0].find_all(\"tr\")\n",
    "    except:\n",
    "     table1 = None\n",
    "\n",
    "    try:\n",
    "     table2 = alldata[1].find_all('tr')\n",
    "    except:\n",
    "     table2 = None\n",
    "\n",
    "    l={}\n",
    "    u=list()\n",
    "    \n",
    "#Populating Lists & Dictionary with performance metrics\n",
    "\n",
    "    for i in range(0,len(table1)):\n",
    "     try:\n",
    "       table1_td = table1[i].find_all('td')\n",
    "     except:\n",
    "       table1_td = None\n",
    "     l[table1_td[0].text] = table1_td[1].text\n",
    "     u.append(l)\n",
    "     l={}\n",
    "\n",
    "    for i in range(0,len(table2)):\n",
    "     try:\n",
    "       table2_td = table2[i].find_all('td')\n",
    "     except:\n",
    "       table2_td = None\n",
    "     l[table2_td[0].text] = table2_td[1].text\n",
    "     u.append(l)\n",
    "     l={}\n",
    "\n",
    "#Create Data Frame Rows\n",
    "    \n",
    "    scrape_df = pd.DataFrame(u)\n",
    "    prev_close = float(scrape_df.iloc[0]['Previous Close'].replace(',',''))\n",
    "    close_date = datetime.datetime.strptime((date.today() - timedelta(days = 1)).strftime('%m-%d-%Y'), '%m-%d-%Y')\n",
    "    stock_list = [close_date, stocks, prev_close]\n",
    "    stock_perf.append(stock_list)\n",
    "\n",
    "#Final DataFrame Output\n",
    "\n",
    "current_stock_data = pd.DataFrame(stock_perf, columns = ['Date', 'Symbol', 'Closing_Price'])\n",
    "current_stock_data.head()"
   ]
  },
  {
   "cell_type": "code",
   "execution_count": 253,
   "metadata": {},
   "outputs": [
    {
     "data": {
      "text/plain": [
       "Date             datetime64[ns]\n",
       "Symbol                   object\n",
       "Closing_Price           float64\n",
       "dtype: object"
      ]
     },
     "execution_count": 253,
     "metadata": {},
     "output_type": "execute_result"
    }
   ],
   "source": [
    "current_stock_data.dtypes"
   ]
  },
  {
   "cell_type": "code",
   "execution_count": null,
   "metadata": {},
   "outputs": [],
   "source": []
  },
  {
   "cell_type": "code",
   "execution_count": null,
   "metadata": {},
   "outputs": [],
   "source": []
  }
 ],
 "metadata": {
  "kernelspec": {
   "display_name": "Python 3",
   "language": "python",
   "name": "python3"
  },
  "language_info": {
   "codemirror_mode": {
    "name": "ipython",
    "version": 3
   },
   "file_extension": ".py",
   "mimetype": "text/x-python",
   "name": "python",
   "nbconvert_exporter": "python",
   "pygments_lexer": "ipython3",
   "version": "3.8.3"
  }
 },
 "nbformat": 4,
 "nbformat_minor": 4
}
