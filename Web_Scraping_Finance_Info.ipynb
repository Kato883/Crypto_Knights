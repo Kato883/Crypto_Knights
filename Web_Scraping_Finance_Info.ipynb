{
 "cells": [
  {
   "cell_type": "code",
   "execution_count": 214,
   "metadata": {},
   "outputs": [],
   "source": [
    "from bs4 import BeautifulSoup\n",
    "import requests\n",
    "from config import scrape_key\n",
    "import pandas as pd\n",
    "from datetime import date, timedelta "
   ]
  },
  {
   "cell_type": "code",
   "execution_count": null,
   "metadata": {},
   "outputs": [],
   "source": [
    "stonks = ['AMZN', 'AAPL', 'GOOGL', 'TSLA', 'GME']"
   ]
  },
  {
   "cell_type": "code",
   "execution_count": 192,
   "metadata": {},
   "outputs": [],
   "source": [
    "query_url = f\"https://api.scrapingdog.com/scrape?api_key={scrape_key}&url=https://finance.yahoo.com/quote/AMZN?p=AMZN&.tsrc=fin-srch\"\n",
    "r = requests.get(query_url).text\n",
    "soup = BeautifulSoup(r,'html.parser')\n",
    "alldata = soup.find_all(\"tbody\")\n",
    "\n",
    "try:\n",
    " table1 = alldata[0].find_all(\"tr\")\n",
    "except:\n",
    " table1 = None\n",
    "\n",
    "try:\n",
    " table2 = alldata[1].find_all('tr')\n",
    "except:\n",
    " table2 = None\n",
    "\n",
    "l={}\n",
    "u=list()\n",
    "\n",
    "for i in range(0,len(table1)):\n",
    " try:\n",
    "   table1_td = table1[i].find_all('td')\n",
    " except:\n",
    "   table1_td = None\n",
    " l[table1_td[0].text] = table1_td[1].text\n",
    " u.append(l)\n",
    " l={}\n",
    "    \n",
    "for i in range(0,len(table2)):\n",
    " try:\n",
    "   table2_td = table2[i].find_all('td')\n",
    " except:\n",
    "   table2_td = None\n",
    " l[table2_td[0].text] = table2_td[1].text\n",
    " u.append(l)\n",
    " l={}"
   ]
  },
  {
   "cell_type": "code",
   "execution_count": 193,
   "metadata": {},
   "outputs": [
    {
     "name": "stdout",
     "output_type": "stream",
     "text": [
      "3,203.53\n"
     ]
    }
   ],
   "source": [
    "scrape_df = pd.DataFrame(u)\n",
    "prev_close = scrape_df.iloc[0]['Previous Close']\n",
    "print(prev_close)"
   ]
  },
  {
   "cell_type": "code",
   "execution_count": 178,
   "metadata": {},
   "outputs": [
    {
     "name": "stdout",
     "output_type": "stream",
     "text": [
      "12-02-2020\n"
     ]
    }
   ],
   "source": [
    "close_date = (date.today() - timedelta(days = 1)).strftime('%m-%d-%Y')\n",
    "print(close_date)"
   ]
  },
  {
   "cell_type": "code",
   "execution_count": 215,
   "metadata": {},
   "outputs": [
    {
     "name": "stdout",
     "output_type": "stream",
     "text": [
      "['12-02-2020', 'AMZN', '3,203.53']\n",
      "['12-02-2020', 'AAPL', '123.08']\n",
      "['12-02-2020', 'GOOGL', '1,824.97']\n",
      "['12-02-2020', 'TSLA', '568.82']\n",
      "['12-02-2020', 'GME', '16.58']\n"
     ]
    },
    {
     "ename": "NameError",
     "evalue": "name 'data_frame_final' is not defined",
     "output_type": "error",
     "traceback": [
      "\u001b[1;31m---------------------------------------------------------------------------\u001b[0m",
      "\u001b[1;31mNameError\u001b[0m                                 Traceback (most recent call last)",
      "\u001b[1;32m<ipython-input-215-4de6642c6fd2>\u001b[0m in \u001b[0;36m<module>\u001b[1;34m\u001b[0m\n\u001b[0;32m     44\u001b[0m     \u001b[0mstock_list\u001b[0m \u001b[1;33m=\u001b[0m \u001b[1;33m[\u001b[0m\u001b[0mclose_date\u001b[0m\u001b[1;33m,\u001b[0m \u001b[0mstocks\u001b[0m\u001b[1;33m,\u001b[0m \u001b[0mprev_close\u001b[0m\u001b[1;33m]\u001b[0m\u001b[1;33m\u001b[0m\u001b[1;33m\u001b[0m\u001b[0m\n\u001b[0;32m     45\u001b[0m     \u001b[0mprint\u001b[0m\u001b[1;33m(\u001b[0m\u001b[0mstock_list\u001b[0m\u001b[1;33m)\u001b[0m\u001b[1;33m\u001b[0m\u001b[1;33m\u001b[0m\u001b[0m\n\u001b[1;32m---> 46\u001b[1;33m \u001b[0mdata_frame_final\u001b[0m\u001b[1;33m\u001b[0m\u001b[1;33m\u001b[0m\u001b[0m\n\u001b[0m\u001b[0;32m     47\u001b[0m \u001b[0mprint\u001b[0m\u001b[1;33m(\u001b[0m\u001b[1;34m'done'\u001b[0m\u001b[1;33m)\u001b[0m\u001b[1;33m\u001b[0m\u001b[1;33m\u001b[0m\u001b[0m\n",
      "\u001b[1;31mNameError\u001b[0m: name 'data_frame_final' is not defined"
     ]
    }
   ],
   "source": [
    "stonks = ['AMZN', 'AAPL', 'GOOGL', 'TSLA', 'GME']\n",
    "stock_perf = []\n",
    "for stocks in stonks:\n",
    "    query_url = f\"https://api.scrapingdog.com/scrape?api_key={scrape_key}&url=https://finance.yahoo.com/quote/{stocks}?p={stocks}&.tsrc=fin-srch\"\n",
    "    r = requests.get(query_url).text\n",
    "    soup = BeautifulSoup(r,'html.parser')\n",
    "    alldata = soup.find_all(\"tbody\")\n",
    "\n",
    "    try:\n",
    "     table1 = alldata[0].find_all(\"tr\")\n",
    "    except:\n",
    "     table1 = None\n",
    "\n",
    "    try:\n",
    "     table2 = alldata[1].find_all('tr')\n",
    "    except:\n",
    "     table2 = None\n",
    "\n",
    "    l={}\n",
    "    u=list()\n",
    "\n",
    "    for i in range(0,len(table1)):\n",
    "     try:\n",
    "       table1_td = table1[i].find_all('td')\n",
    "     except:\n",
    "       table1_td = None\n",
    "     l[table1_td[0].text] = table1_td[1].text\n",
    "     u.append(l)\n",
    "     l={}\n",
    "\n",
    "    for i in range(0,len(table2)):\n",
    "     try:\n",
    "       table2_td = table2[i].find_all('td')\n",
    "     except:\n",
    "       table2_td = None\n",
    "     l[table2_td[0].text] = table2_td[1].text\n",
    "     u.append(l)\n",
    "     l={}\n",
    "\n",
    "#Create Data Frame Rows\n",
    "    scrape_df = pd.DataFrame(u)\n",
    "    prev_close = scrape_df.iloc[0]['Previous Close']\n",
    "    close_date = (date.today() - timedelta(days = 1)).strftime('%m-%d-%Y')\n",
    "    stock_list = [close_date, stocks, prev_close]\n",
    "    stock_perf.append(stock_list)\n",
    "df = pd.DataFram(stock_perf, columns = ['Date'. 'Symbol', 'Close_Value'])\n",
    "df."
   ]
  },
  {
   "cell_type": "code",
   "execution_count": 196,
   "metadata": {},
   "outputs": [
    {
     "name": "stdout",
     "output_type": "stream",
     "text": [
      "list element: 0\n",
      "list element: 10\n",
      "list element: 20\n",
      "list element: 40\n",
      "list element: 100\n",
      "The degrees list has 5 elements\n"
     ]
    }
   ],
   "source": [
    "degrees = [0, 10, 20, 40, 100]\n",
    "for C in degrees:\n",
    "    print('list element:', C)\n",
    "print('The degrees list has', len(degrees), 'elements')"
   ]
  },
  {
   "cell_type": "code",
   "execution_count": 213,
   "metadata": {},
   "outputs": [
    {
     "data": {
      "text/html": [
       "<div>\n",
       "<style scoped>\n",
       "    .dataframe tbody tr th:only-of-type {\n",
       "        vertical-align: middle;\n",
       "    }\n",
       "\n",
       "    .dataframe tbody tr th {\n",
       "        vertical-align: top;\n",
       "    }\n",
       "\n",
       "    .dataframe thead th {\n",
       "        text-align: right;\n",
       "    }\n",
       "</style>\n",
       "<table border=\"1\" class=\"dataframe\">\n",
       "  <thead>\n",
       "    <tr style=\"text-align: right;\">\n",
       "      <th></th>\n",
       "      <th>Pet1</th>\n",
       "      <th>Pet2</th>\n",
       "    </tr>\n",
       "  </thead>\n",
       "  <tbody>\n",
       "    <tr>\n",
       "      <th>0</th>\n",
       "      <td>dog</td>\n",
       "      <td>cat</td>\n",
       "    </tr>\n",
       "    <tr>\n",
       "      <th>1</th>\n",
       "      <td>pat</td>\n",
       "      <td>jim</td>\n",
       "    </tr>\n",
       "  </tbody>\n",
       "</table>\n",
       "</div>"
      ],
      "text/plain": [
       "  Pet1 Pet2\n",
       "0  dog  cat\n",
       "1  pat  jim"
      ]
     },
     "execution_count": 213,
     "metadata": {},
     "output_type": "execute_result"
    }
   ],
   "source": [
    "list2 = []\n",
    "list1 = ['dog', 'cat']\n",
    "list3 = ['pat','jim']\n",
    "list2.append(list1)\n",
    "list2.append(list3)\n",
    "df = pd.DataFrame(list2, columns = ['Pet1', 'Pet2'])\n",
    "df.head()"
   ]
  },
  {
   "cell_type": "code",
   "execution_count": null,
   "metadata": {},
   "outputs": [],
   "source": [
    "\n"
   ]
  },
  {
   "cell_type": "code",
   "execution_count": null,
   "metadata": {},
   "outputs": [],
   "source": []
  }
 ],
 "metadata": {
  "kernelspec": {
   "display_name": "Python 3",
   "language": "python",
   "name": "python3"
  },
  "language_info": {
   "codemirror_mode": {
    "name": "ipython",
    "version": 3
   },
   "file_extension": ".py",
   "mimetype": "text/x-python",
   "name": "python",
   "nbconvert_exporter": "python",
   "pygments_lexer": "ipython3",
   "version": "3.8.3"
  }
 },
 "nbformat": 4,
 "nbformat_minor": 4
}
