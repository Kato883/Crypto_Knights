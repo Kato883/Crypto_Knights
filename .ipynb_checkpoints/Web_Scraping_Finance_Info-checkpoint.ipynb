{
 "cells": [
  {
   "cell_type": "code",
   "execution_count": 10,
   "metadata": {},
   "outputs": [],
   "source": [
    "from bs4 import BeautifulSoup\n",
    "import requests\n",
    "from config import scrape_key"
   ]
  },
  {
   "cell_type": "code",
   "execution_count": 16,
   "metadata": {},
   "outputs": [],
   "source": [
    "query_url = f\"https://api.scrapingdog.com/scrape?api_key={scrape_key}&url=https://finance.yahoo.com/quote/AMZN?p=AMZN&.tsrc=fin-srch\"\n",
    "r = requests.get(query_url).text"
   ]
  },
  {
   "cell_type": "code",
   "execution_count": 21,
   "metadata": {},
   "outputs": [],
   "source": [
    "#Beautiful Soup\n",
    "soup = BeautifulSoup(r,'html.parser')\n",
    "alldata = soup.find_all(\"tbody\")"
   ]
  },
  {
   "cell_type": "code",
   "execution_count": 24,
   "metadata": {},
   "outputs": [],
   "source": [
    "try:\n",
    " table1 = alldata[0].find_all('tr')\n",
    "except:\n",
    " table1 = None\n",
    "try:\n",
    " table2 = alldata[1].find_all('tr')\n",
    "except:\n",
    " table2 = None"
   ]
  },
  {
   "cell_type": "code",
   "execution_count": 25,
   "metadata": {},
   "outputs": [],
   "source": [
    "l={}\n",
    "u=list()"
   ]
  },
  {
   "cell_type": "code",
   "execution_count": 27,
   "metadata": {},
   "outputs": [],
   "source": [
    "for i in range(0,len(table1)):\n",
    " try:\n",
    "   table1_td = table1[i].find_all('td')\n",
    " except:\n",
    "   table1_td = None\n",
    " l[table1_td[0].text] = table1_td[1].text\n",
    " u.append(l)\n",
    " l={}"
   ]
  },
  {
   "cell_type": "code",
   "execution_count": 28,
   "metadata": {},
   "outputs": [],
   "source": [
    "for i in range(0,len(table2)):\n",
    " try:\n",
    "   table2_td = table2[i].find_all('td')\n",
    " except:\n",
    "   table2_td = None\n",
    " l[table2_td[0].text] = table2_td[1].text\n",
    " u.append(l)\n",
    " l={}"
   ]
  },
  {
   "cell_type": "code",
   "execution_count": 29,
   "metadata": {},
   "outputs": [
    {
     "name": "stdout",
     "output_type": "stream",
     "text": [
      "[{'Previous Close': '3,168.04'}, {'Open': '3,188.50'}, {'Bid': '3,216.03 x 1100'}, {'Ask': '3,218.00 x 2200'}, {\"Day's Range\": '3,157.18 - 3,248.51'}, {'52 Week Range': '1,626.03 - 3,552.25'}, {'Volume': '4,544,382'}, {'Avg. Volume': '5,126,477'}, {'Market Cap': '1.616T'}, {'Beta (5Y Monthly)': '1.30'}, {'PE Ratio (TTM)': '94.15'}, {'EPS (TTM)': '34.20'}, {'Earnings Date': 'Jan 28, 2021 - Feb 01, 2021'}, {'Forward Dividend & Yield': 'N/A (N/A)'}, {'Ex-Dividend Date': 'N/A'}, {'1y Target Est': '3,812.78'}]\n"
     ]
    }
   ],
   "source": [
    "print(u)"
   ]
  },
  {
   "cell_type": "code",
   "execution_count": null,
   "metadata": {},
   "outputs": [],
   "source": []
  }
 ],
 "metadata": {
  "kernelspec": {
   "display_name": "Python 3",
   "language": "python",
   "name": "python3"
  },
  "language_info": {
   "codemirror_mode": {
    "name": "ipython",
    "version": 3
   },
   "file_extension": ".py",
   "mimetype": "text/x-python",
   "name": "python",
   "nbconvert_exporter": "python",
   "pygments_lexer": "ipython3",
   "version": "3.8.3"
  }
 },
 "nbformat": 4,
 "nbformat_minor": 4
}
