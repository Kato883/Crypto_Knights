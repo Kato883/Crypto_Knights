{
 "cells": [
  {
   "cell_type": "code",
   "execution_count": 189,
   "metadata": {},
   "outputs": [],
   "source": [
    "from bs4 import BeautifulSoup\n",
    "import requests\n",
    "from config import scrape_key\n",
    "import pandas as pd\n",
    "from datetime import date, timedelta "
   ]
  },
  {
   "cell_type": "code",
   "execution_count": null,
   "metadata": {},
   "outputs": [],
   "source": [
    "stonks = ['AMZN', 'AAPL', 'GOOGL', 'TSLA', 'GME']"
   ]
  },
  {
   "cell_type": "code",
   "execution_count": 192,
   "metadata": {},
   "outputs": [],
   "source": [
    "query_url = f\"https://api.scrapingdog.com/scrape?api_key={scrape_key}&url=https://finance.yahoo.com/quote/AMZN?p=AMZN&.tsrc=fin-srch\"\n",
    "r = requests.get(query_url).text\n",
    "soup = BeautifulSoup(r,'html.parser')\n",
    "alldata = soup.find_all(\"tbody\")\n",
    "\n",
    "try:\n",
    " table1 = alldata[0].find_all(\"tr\")\n",
    "except:\n",
    " table1 = None\n",
    "\n",
    "try:\n",
    " table2 = alldata[1].find_all('tr')\n",
    "except:\n",
    " table2 = None\n",
    "\n",
    "l={}\n",
    "u=list()\n",
    "\n",
    "for i in range(0,len(table1)):\n",
    " try:\n",
    "   table1_td = table1[i].find_all('td')\n",
    " except:\n",
    "   table1_td = None\n",
    " l[table1_td[0].text] = table1_td[1].text\n",
    " u.append(l)\n",
    " l={}\n",
    "    \n",
    "for i in range(0,len(table2)):\n",
    " try:\n",
    "   table2_td = table2[i].find_all('td')\n",
    " except:\n",
    "   table2_td = None\n",
    " l[table2_td[0].text] = table2_td[1].text\n",
    " u.append(l)\n",
    " l={}"
   ]
  },
  {
   "cell_type": "code",
   "execution_count": 193,
   "metadata": {},
   "outputs": [
    {
     "name": "stdout",
     "output_type": "stream",
     "text": [
      "3,203.53\n"
     ]
    }
   ],
   "source": [
    "scrape_df = pd.DataFrame(u)\n",
    "prev_close = scrape_df.iloc[0]['Previous Close']\n",
    "print(prev_close)"
   ]
  },
  {
   "cell_type": "code",
   "execution_count": 178,
   "metadata": {},
   "outputs": [
    {
     "name": "stdout",
     "output_type": "stream",
     "text": [
      "12-02-2020\n"
     ]
    }
   ],
   "source": [
    "close_date = (date.today() - timedelta(days = 1)).strftime('%m-%d-%Y')\n",
    "print(close_date)"
   ]
  },
  {
   "cell_type": "code",
   "execution_count": 183,
   "metadata": {},
   "outputs": [
    {
     "ename": "SyntaxError",
     "evalue": "invalid character in identifier (<ipython-input-183-9eb7c9108cf2>, line 10)",
     "output_type": "error",
     "traceback": [
      "\u001b[1;36m  File \u001b[1;32m\"<ipython-input-183-9eb7c9108cf2>\"\u001b[1;36m, line \u001b[1;32m10\u001b[0m\n\u001b[1;33m    table3 = alldata[0].find_all(“tr”)\u001b[0m\n\u001b[1;37m                                    ^\u001b[0m\n\u001b[1;31mSyntaxError\u001b[0m\u001b[1;31m:\u001b[0m invalid character in identifier\n"
     ]
    }
   ],
   "source": [
    "stonks = ['AMZN', 'AAPL', 'GOOGL', 'TSLA', 'GME']"
   ]
  },
  {
   "cell_type": "code",
   "execution_count": 197,
   "metadata": {},
   "outputs": [
    {
     "name": "stdout",
     "output_type": "stream",
     "text": [
      "https://api.scrapingdog.com/scrape?api_key=5fc6e9290d660f1fec3f0efa&url=https://finance.yahoo.com/quote/AMZN?p=AMZN&.tsrc=fin-srch\n",
      "https://api.scrapingdog.com/scrape?api_key=5fc6e9290d660f1fec3f0efa&url=https://finance.yahoo.com/quote/AAPL?p=AAPL&.tsrc=fin-srch\n",
      "https://api.scrapingdog.com/scrape?api_key=5fc6e9290d660f1fec3f0efa&url=https://finance.yahoo.com/quote/GOOGL?p=GOOGL&.tsrc=fin-srch\n",
      "https://api.scrapingdog.com/scrape?api_key=5fc6e9290d660f1fec3f0efa&url=https://finance.yahoo.com/quote/TSLA?p=TSLA&.tsrc=fin-srch\n",
      "https://api.scrapingdog.com/scrape?api_key=5fc6e9290d660f1fec3f0efa&url=https://finance.yahoo.com/quote/GME?p=GME&.tsrc=fin-srch\n",
      "done\n"
     ]
    }
   ],
   "source": []
  },
  {
   "cell_type": "code",
   "execution_count": 84,
   "metadata": {},
   "outputs": [],
   "source": [
    "stonks = ['AMZN', 'AAPL', 'GOOGL', 'TSLA', 'GME']\n",
    "\n",
    "for stocks in stonks:\n",
    "    query_url = f\"https://api.scrapingdog.com/scrape?api_key={scrape_key}&url=https://finance.yahoo.com/quote/{stocks}?p={stocks}&.tsrc=fin-srch\"\n",
    "    r = requests.get(query_url).text\n",
    "    soup = BeautifulSoup(r,'html.parser')\n",
    "    alldata = soup.find_all(\"tbody\")\n",
    "\n",
    "try:\n",
    " table1 = alldata[0].find_all(\"tr\")\n",
    "except:\n",
    " table1 = None\n",
    "\n",
    "try:\n",
    " table2 = alldata[1].find_all('tr')\n",
    "except:\n",
    " table2 = None\n",
    "\n",
    "l={}\n",
    "u=list()\n",
    "\n",
    "for i in range(0,len(table1)):\n",
    " try:\n",
    "   table1_td = table1[i].find_all('td')\n",
    " except:\n",
    "   table1_td = None\n",
    " l[table1_td[0].text] = table1_td[1].text\n",
    " u.append(l)\n",
    " l={}\n",
    "    \n",
    "for i in range(0,len(table2)):\n",
    " try:\n",
    "   table2_td = table2[i].find_all('td')\n",
    " except:\n",
    "   table2_td = None\n",
    " l[table2_td[0].text] = table2_td[1].text\n",
    " u.append(l)\n",
    " l={}"
   ]
  },
  {
   "cell_type": "code",
   "execution_count": 196,
   "metadata": {},
   "outputs": [
    {
     "name": "stdout",
     "output_type": "stream",
     "text": [
      "list element: 0\n",
      "list element: 10\n",
      "list element: 20\n",
      "list element: 40\n",
      "list element: 100\n",
      "The degrees list has 5 elements\n"
     ]
    }
   ],
   "source": [
    "degrees = [0, 10, 20, 40, 100]\n",
    "for C in degrees:\n",
    "    print('list element:', C)\n",
    "print('The degrees list has', len(degrees), 'elements')"
   ]
  },
  {
   "cell_type": "code",
   "execution_count": null,
   "metadata": {},
   "outputs": [],
   "source": [
    "\n"
   ]
  },
  {
   "cell_type": "code",
   "execution_count": null,
   "metadata": {},
   "outputs": [],
   "source": [
    "\n"
   ]
  },
  {
   "cell_type": "code",
   "execution_count": null,
   "metadata": {},
   "outputs": [],
   "source": []
  }
 ],
 "metadata": {
  "kernelspec": {
   "display_name": "Python 3",
   "language": "python",
   "name": "python3"
  },
  "language_info": {
   "codemirror_mode": {
    "name": "ipython",
    "version": 3
   },
   "file_extension": ".py",
   "mimetype": "text/x-python",
   "name": "python",
   "nbconvert_exporter": "python",
   "pygments_lexer": "ipython3",
   "version": "3.8.3"
  }
 },
 "nbformat": 4,
 "nbformat_minor": 4
}
